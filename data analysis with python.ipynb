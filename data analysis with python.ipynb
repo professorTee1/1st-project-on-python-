{
 "cells": [
  {
   "cell_type": "code",
   "execution_count": 9,
   "metadata": {},
   "outputs": [
    {
     "name": "stdout",
     "output_type": "stream",
     "text": [
      "hello world\n"
     ]
    }
   ],
   "source": [
    "print(\"hello world\")"
   ]
  },
  {
   "cell_type": "code",
   "execution_count": 1,
   "metadata": {},
   "outputs": [
    {
     "ename": "ModuleNotFoundError",
     "evalue": "No module named 'numpy'",
     "output_type": "error",
     "traceback": [
      "\u001b[1;31m---------------------------------------------------------------------------\u001b[0m",
      "\u001b[1;31mModuleNotFoundError\u001b[0m                       Traceback (most recent call last)",
      "Cell \u001b[1;32mIn[1], line 1\u001b[0m\n\u001b[1;32m----> 1\u001b[0m \u001b[38;5;28;01mimport\u001b[39;00m \u001b[38;5;21;01mnumpy\u001b[39;00m \u001b[38;5;28;01mas\u001b[39;00m \u001b[38;5;21;01mnp\u001b[39;00m\n",
      "\u001b[1;31mModuleNotFoundError\u001b[0m: No module named 'numpy'"
     ]
    }
   ],
   "source": [
    "import numpy as np"
   ]
  },
  {
   "cell_type": "code",
   "execution_count": 3,
   "metadata": {},
   "outputs": [
    {
     "data": {
      "text/plain": [
       "(<module 'os' (frozen)>, <function dir>)"
      ]
     },
     "execution_count": 3,
     "metadata": {},
     "output_type": "execute_result"
    }
   ],
   "source": [
    "import os\n",
    "os,dir"
   ]
  },
  {
   "cell_type": "code",
   "execution_count": 4,
   "metadata": {},
   "outputs": [
    {
     "ename": "ModuleNotFoundError",
     "evalue": "No module named 'pandas'",
     "output_type": "error",
     "traceback": [
      "\u001b[1;31m---------------------------------------------------------------------------\u001b[0m",
      "\u001b[1;31mModuleNotFoundError\u001b[0m                       Traceback (most recent call last)",
      "Cell \u001b[1;32mIn[4], line 1\u001b[0m\n\u001b[1;32m----> 1\u001b[0m \u001b[38;5;28;01mimport\u001b[39;00m \u001b[38;5;21;01mpandas\u001b[39;00m \u001b[38;5;28;01mas\u001b[39;00m \u001b[38;5;21;01mpd\u001b[39;00m\n",
      "\u001b[1;31mModuleNotFoundError\u001b[0m: No module named 'pandas'"
     ]
    }
   ],
   "source": [
    "import pandas as pd"
   ]
  },
  {
   "cell_type": "code",
   "execution_count": null,
   "metadata": {},
   "outputs": [
    {
     "name": "stdout",
     "output_type": "stream",
     "text": [
      "1\n",
      "2\n",
      "3\n",
      "4\n",
      "5\n",
      "6\n",
      "7\n",
      "8\n",
      "9\n",
      "10\n"
     ]
    }
   ],
   "source": [
    "my_testing = list(range(1, 11))\n",
    "for number in my_testing:\n",
    "    print(number)"
   ]
  },
  {
   "cell_type": "code",
   "execution_count": null,
   "metadata": {},
   "outputs": [
    {
     "name": "stdout",
     "output_type": "stream",
     "text": [
      "1\n",
      "2\n",
      "3\n",
      "4\n",
      "5\n",
      "6\n",
      "7\n",
      "8\n",
      "9\n",
      "10\n"
     ]
    }
   ],
   "source": [
    "for numbe in range(1, 11):\n",
    "    print(numbe)"
   ]
  },
  {
   "cell_type": "code",
   "execution_count": null,
   "metadata": {},
   "outputs": [
    {
     "name": "stdout",
     "output_type": "stream",
     "text": [
      "1\n",
      "2\n",
      "3\n",
      "4\n",
      "5\n",
      "6\n",
      "7\n",
      "8\n",
      "9\n",
      "10\n",
      "11\n",
      "12\n",
      "13\n",
      "14\n",
      "15\n",
      "16\n",
      "17\n",
      "18\n",
      "19\n",
      "20\n",
      "21\n",
      "22\n",
      "23\n",
      "24\n",
      "25\n",
      "26\n",
      "27\n",
      "28\n",
      "29\n",
      "30\n",
      "31\n",
      "32\n",
      "33\n",
      "34\n",
      "35\n",
      "36\n",
      "37\n",
      "38\n",
      "39\n",
      "40\n",
      "41\n",
      "42\n",
      "43\n",
      "44\n",
      "45\n",
      "46\n",
      "47\n",
      "48\n",
      "49\n",
      "50\n",
      "51\n",
      "52\n",
      "53\n",
      "54\n",
      "55\n",
      "56\n",
      "57\n",
      "58\n",
      "59\n",
      "60\n",
      "61\n",
      "62\n",
      "63\n",
      "64\n",
      "65\n",
      "66\n",
      "67\n",
      "68\n",
      "69\n",
      "70\n",
      "71\n",
      "72\n",
      "73\n",
      "74\n",
      "75\n",
      "76\n",
      "77\n",
      "78\n",
      "79\n",
      "80\n",
      "81\n",
      "82\n",
      "83\n",
      "84\n",
      "85\n",
      "86\n",
      "87\n",
      "88\n",
      "89\n",
      "90\n",
      "91\n",
      "92\n",
      "93\n",
      "94\n",
      "95\n",
      "96\n",
      "97\n",
      "98\n",
      "99\n",
      "100\n"
     ]
    }
   ],
   "source": [
    "numbers = list(range(1,101))\n",
    "for number in numbers:\n",
    "    print(number)"
   ]
  },
  {
   "cell_type": "code",
   "execution_count": null,
   "metadata": {},
   "outputs": [
    {
     "name": "stdout",
     "output_type": "stream",
     "text": [
      "1\n",
      "2\n",
      "3\n",
      "4\n",
      "5\n",
      "6\n",
      "7\n",
      "8\n",
      "9\n",
      "10\n",
      "11\n",
      "12\n",
      "13\n",
      "14\n",
      "15\n",
      "16\n",
      "17\n",
      "18\n",
      "19\n",
      "20\n",
      "21\n",
      "22\n",
      "23\n",
      "24\n",
      "25\n",
      "26\n",
      "27\n",
      "28\n",
      "29\n",
      "30\n",
      "31\n",
      "32\n",
      "33\n",
      "34\n",
      "35\n",
      "36\n",
      "37\n",
      "38\n",
      "39\n",
      "40\n",
      "41\n",
      "42\n",
      "43\n",
      "44\n",
      "45\n",
      "46\n",
      "47\n",
      "48\n",
      "49\n",
      "50\n"
     ]
    }
   ],
   "source": [
    "for number in numbers:\n",
    "    if number > 50:\n",
    "        continue\n",
    "    print(number)"
   ]
  },
  {
   "cell_type": "code",
   "execution_count": null,
   "metadata": {},
   "outputs": [
    {
     "name": "stdout",
     "output_type": "stream",
     "text": [
      "5\n",
      "6\n",
      "7\n",
      "8\n",
      "9\n",
      "10\n"
     ]
    }
   ],
   "source": [
    "for number in my_testing:\n",
    "    if number < 5:\n",
    "        continue\n",
    "    print(number)"
   ]
  },
  {
   "cell_type": "code",
   "execution_count": 5,
   "metadata": {},
   "outputs": [
    {
     "name": "stdout",
     "output_type": "stream",
     "text": [
      "Few years remaining to expire\n",
      "Few years remaining to expire\n",
      "Few years remaining to expire\n",
      "Few years remaining to expire\n"
     ]
    }
   ],
   "source": [
    "production_year = 1990\n",
    "expired_year = 2024\n",
    "while production_year<expired_year:\n",
    "    print(\"Few years remaining to expire\")\n",
    "    production_year = production_year + 10\n"
   ]
  },
  {
   "cell_type": "code",
   "execution_count": null,
   "metadata": {},
   "outputs": [
    {
     "name": "stdout",
     "output_type": "stream",
     "text": [
      "okay sir\n",
      "okay sir\n",
      "okay sir\n",
      "okay sir\n",
      "okay sir\n",
      "okay sir\n",
      "okay sir\n"
     ]
    }
   ],
   "source": [
    "x = 7\n",
    "w = 0\n",
    "while w < x:\n",
    "    print(\"okay sir\")\n",
    "    w = w+1"
   ]
  },
  {
   "cell_type": "code",
   "execution_count": null,
   "metadata": {},
   "outputs": [
    {
     "ename": "",
     "evalue": "",
     "output_type": "error",
     "traceback": [
      "\u001b[1;31mFailed to start the Kernel. \n",
      "\u001b[1;31mUnable to start Kernel 'Python 3.12.3' due to a timeout waiting for the ports to get used. \n",
      "\u001b[1;31mView Jupyter <a href='command:jupyter.viewOutput'>log</a> for further details."
     ]
    }
   ],
   "source": [
    "import numpy as np\n",
    "my_test = np.random.uniform(-1, 1, 25)\n",
    "my_test = np.where(my_test < 0, 0, my_test)\n",
    "print(my_test)"
   ]
  },
  {
   "cell_type": "code",
   "execution_count": null,
   "metadata": {},
   "outputs": [
    {
     "name": "stdout",
     "output_type": "stream",
     "text": [
      "The addition of 2 and 1 = 3\n"
     ]
    }
   ],
   "source": [
    "def add():\n",
    "    len = int(input(\"enter number\"))\n",
    "    sen = int(input(\"enter number\"))\n",
    "    print(\"The addition of\", len, \"and\", sen, \"=\", len + sen)\n",
    "\n",
    "def subtract(len, sen):\n",
    "    print(\"The subtraction of\", len, \"and\", sen, \"=\", len - sen)   \n",
    "\n",
    "def multiply(len, sen):\n",
    "    print(\"The multiplication of\", len, \"and\", sen, \"=\", len * sen) \n",
    "\n",
    "def square(len):\n",
    "    print(\"The sqaure of\", len, \"=\", len ** 2) \n",
    "\n",
    "def cubes(len):\n",
    "    print(\"The cubes of\", len, \"=\", len ** 3) \n",
    "\n",
    "def area(len, sen):\n",
    "    print(\"The area of rectangle\", len, \"and\", sen, \"=\", len * sen,\"cm\") \n",
    "\n",
    "def areas(len):\n",
    "    print(\"The area of circle with raduis\", len, \"=\", 22/7 * len ** 2, \"cm\") \n",
    "\n",
    "add()\n",
    "\n",
    "    "
   ]
  },
  {
   "cell_type": "code",
   "execution_count": null,
   "metadata": {},
   "outputs": [
    {
     "ename": "TypeError",
     "evalue": "add() takes 0 positional arguments but 2 were given",
     "output_type": "error",
     "traceback": [
      "\u001b[1;31m---------------------------------------------------------------------------\u001b[0m",
      "\u001b[1;31mTypeError\u001b[0m                                 Traceback (most recent call last)",
      "Cell \u001b[1;32mIn[6], line 1\u001b[0m\n\u001b[1;32m----> 1\u001b[0m \u001b[43madd\u001b[49m\u001b[43m(\u001b[49m\u001b[38;5;241;43m4\u001b[39;49m\u001b[43m,\u001b[49m\u001b[43m \u001b[49m\u001b[38;5;241;43m3\u001b[39;49m\u001b[43m)\u001b[49m\n",
      "\u001b[1;31mTypeError\u001b[0m: add() takes 0 positional arguments but 2 were given"
     ]
    }
   ],
   "source": [
    "add(4, 3)"
   ]
  },
  {
   "cell_type": "code",
   "execution_count": null,
   "metadata": {},
   "outputs": [
    {
     "name": "stdout",
     "output_type": "stream",
     "text": [
      "The subtraction of 10 and 7 = 3\n",
      "The multiplication of 4 and 2 = 8\n",
      "The sqaure of 25 = 625\n",
      "The cubes of 3 = 27\n",
      "The area of rectangle 3 and 4 = 12 cm\n",
      "The area of circle with raduis 2 = 12.571428571428571 cm\n"
     ]
    }
   ],
   "source": [
    "\n",
    "subtract(10, 7)\n",
    "multiply(4, 2)\n",
    "square(25)\n",
    "cubes(3)\n",
    "area(3, 4)\n",
    "areas(2)"
   ]
  },
  {
   "cell_type": "code",
   "execution_count": null,
   "metadata": {},
   "outputs": [],
   "source": [
    "Name = input(\"Enter your name\")"
   ]
  },
  {
   "cell_type": "code",
   "execution_count": null,
   "metadata": {},
   "outputs": [
    {
     "name": "stdout",
     "output_type": "stream",
     "text": [
      "Oluwatobiloba\n"
     ]
    }
   ],
   "source": [
    "print(Name)"
   ]
  },
  {
   "cell_type": "code",
   "execution_count": null,
   "metadata": {},
   "outputs": [
    {
     "name": "stdout",
     "output_type": "stream",
     "text": [
      "22.0\n"
     ]
    }
   ],
   "source": [
    "Number = float(input(\"Enter a number\"))\n",
    "type(Number)\n",
    "print(Number)"
   ]
  },
  {
   "cell_type": "code",
   "execution_count": null,
   "metadata": {},
   "outputs": [
    {
     "name": "stdout",
     "output_type": "stream",
     "text": [
      "what\n"
     ]
    }
   ],
   "source": [
    "p = (\"what\")\n",
    "print(p)"
   ]
  },
  {
   "cell_type": "code",
   "execution_count": 1,
   "metadata": {},
   "outputs": [
    {
     "data": {
      "text/plain": [
       "'C'"
      ]
     },
     "execution_count": 1,
     "metadata": {},
     "output_type": "execute_result"
    }
   ],
   "source": [
    "def grading_system(a):\n",
    "\n",
    "\n",
    "\n",
    "    if a > 100:\n",
    "       return \"Invalid scores\"\n",
    "    elif a >= 90:\n",
    "       return \"A\"\n",
    "    elif a >= 80:\n",
    "       return \"B\"\n",
    "    elif a >= 70 and a < 80:\n",
    "       return \"C\"\n",
    "    elif a >= 60 and a < 70:\n",
    "       return \"D\"\n",
    "    elif a >= 50 and a <60:\n",
    "       return \"E\"\n",
    "    else:\n",
    "       return \"F\"\n",
    "        \n",
    "\n",
    "grading_system(78)\n",
    "\n"
   ]
  },
  {
   "cell_type": "code",
   "execution_count": null,
   "metadata": {},
   "outputs": [
    {
     "data": {
      "text/plain": [
       "'F'"
      ]
     },
     "execution_count": 40,
     "metadata": {},
     "output_type": "execute_result"
    }
   ],
   "source": [
    "def grading_system():\n",
    "    a = int(input(\"enter scores\"))\n",
    "\n",
    "\n",
    "\n",
    "    if a > 100:\n",
    "       return \"Invalid scores\"\n",
    "    elif a >= 90:\n",
    "       return \"A\"\n",
    "    elif a >= 80:\n",
    "       return \"B\"\n",
    "    elif a >= 70 and a < 80:\n",
    "       return \"C\"\n",
    "    elif a >= 60 and a < 70:\n",
    "       return \"D\"\n",
    "    elif a >= 50 and a <60:\n",
    "       return \"E\"\n",
    "    else:\n",
    "       return \"F\"\n",
    "        \n",
    "\n",
    "grading_system()\n"
   ]
  },
  {
   "cell_type": "code",
   "execution_count": null,
   "metadata": {},
   "outputs": [
    {
     "data": {
      "text/plain": [
       "'F'"
      ]
     },
     "execution_count": 41,
     "metadata": {},
     "output_type": "execute_result"
    }
   ],
   "source": [
    "grading_system()"
   ]
  },
  {
   "cell_type": "code",
   "execution_count": null,
   "metadata": {},
   "outputs": [
    {
     "data": {
      "text/plain": [
       "'Invalid scores'"
      ]
     },
     "execution_count": 30,
     "metadata": {},
     "output_type": "execute_result"
    }
   ],
   "source": [
    "grading_system(800)"
   ]
  },
  {
   "cell_type": "code",
   "execution_count": null,
   "metadata": {},
   "outputs": [
    {
     "data": {
      "text/plain": [
       "'F'"
      ]
     },
     "execution_count": 12,
     "metadata": {},
     "output_type": "execute_result"
    }
   ],
   "source": [
    "grading_system(45)"
   ]
  },
  {
   "cell_type": "code",
   "execution_count": null,
   "metadata": {},
   "outputs": [
    {
     "name": "stdout",
     "output_type": "stream",
     "text": [
      "The largest mumber is 10\n"
     ]
    }
   ],
   "source": [
    "def max(a, b, c):\n",
    "    if a > b and a > c:\n",
    "        print(\"The largest number is\",a)\n",
    "    elif b > a and b > c:\n",
    "        print(\"The largest mumber is\",b)\n",
    "    else:\n",
    "        print(\"The largest number is\",c)\n",
    "\n",
    "\n",
    "max(5, 10, 7)"
   ]
  },
  {
   "cell_type": "code",
   "execution_count": 2,
   "metadata": {},
   "outputs": [
    {
     "name": "stdout",
     "output_type": "stream",
     "text": [
      "The largest number is 9\n"
     ]
    }
   ],
   "source": [
    "def max():\n",
    "    a = int(input(\"enter the number\"))\n",
    "    b = int(input(\"enter the number\"))\n",
    "    c = int(input(\"enter the number\"))\n",
    "    if a > b and a > c:\n",
    "        print(\"The largest number is\",a)\n",
    "    elif b > a and b > c:\n",
    "        print(\"The largest mumber is\",b)\n",
    "    else:\n",
    "        print(\"The largest number is\",c)\n",
    "\n",
    "\n",
    "max()"
   ]
  },
  {
   "cell_type": "code",
   "execution_count": null,
   "metadata": {},
   "outputs": [
    {
     "data": {
      "text/plain": [
       "9"
      ]
     },
     "execution_count": 14,
     "metadata": {},
     "output_type": "execute_result"
    }
   ],
   "source": [
    "max(9,6,7)"
   ]
  },
  {
   "cell_type": "code",
   "execution_count": null,
   "metadata": {},
   "outputs": [
    {
     "name": "stdout",
     "output_type": "stream",
     "text": [
      "The largest mumber is 9\n"
     ]
    }
   ],
   "source": [
    "a = 7\n",
    "b = 9\n",
    "c = 6\n",
    "\n",
    "if a > b and a > c:\n",
    "    print(\"The largest number is\",a)\n",
    "elif b > a and b > c:\n",
    "    print(\"The largest mumber is\",b)\n",
    "else:\n",
    "    print(\"The largest number is\",c)"
   ]
  },
  {
   "cell_type": "code",
   "execution_count": null,
   "metadata": {},
   "outputs": [
    {
     "name": "stdout",
     "output_type": "stream",
     "text": [
      "The number is EVEN\n"
     ]
    }
   ],
   "source": [
    "num = int(input(\"enter a number\"))\n",
    "if num % 2 == 0:\n",
    "    print(\"The number is EVEN\")\n",
    "else:\n",
    "    print(\"The number is ODD\")"
   ]
  },
  {
   "cell_type": "code",
   "execution_count": null,
   "metadata": {},
   "outputs": [
    {
     "name": "stdout",
     "output_type": "stream",
     "text": [
      "The number is POSITIVE\n"
     ]
    }
   ],
   "source": [
    "num = int(input(\"enter a number\"))\n",
    "if num > 0:\n",
    "    print(\"The number is POSITIVE\")\n",
    "elif num < 0:\n",
    "    print(\"The number is NEGATIVE\")\n",
    "else:\n",
    "    print(\"The number is ZERO\")"
   ]
  },
  {
   "cell_type": "code",
   "execution_count": null,
   "metadata": {},
   "outputs": [
    {
     "name": "stdout",
     "output_type": "stream",
     "text": [
      "This is zero 0\n"
     ]
    }
   ],
   "source": [
    "def me():\n",
    "    num = int(input(\"number\"))\n",
    "    if num > 0:\n",
    "        print(\"This is a positive number\", num)\n",
    "    elif num < 0:\n",
    "        print(\"This is a negative number\", num)\n",
    "    else:\n",
    "        print(\"This is zero\", num)\n",
    "\n",
    "me()"
   ]
  },
  {
   "cell_type": "code",
   "execution_count": null,
   "metadata": {},
   "outputs": [
    {
     "name": "stdout",
     "output_type": "stream",
     "text": [
      "TEENAGER\n"
     ]
    }
   ],
   "source": [
    "# age group\n",
    "\n",
    "age = int(input(\"enter your age\"))\n",
    "if age > 60:\n",
    "    print(\"SENIOR CITIZEN\")\n",
    "elif age >= 20 and age <=59:\n",
    "    print(\"ADULT\")\n",
    "elif age >= 13 and age <= 19:\n",
    "    print(\"TEENAGER\")\n",
    "else:\n",
    "    print(\"CHILD\")"
   ]
  },
  {
   "cell_type": "code",
   "execution_count": null,
   "metadata": {},
   "outputs": [
    {
     "name": "stdout",
     "output_type": "stream",
     "text": [
      "SENIOR CITIZEN\n"
     ]
    }
   ],
   "source": [
    "def close():\n",
    "    age = int(input(\"enter your age\"))\n",
    "    if age > 60:\n",
    "        print(\"SENIOR CITIZEN\")\n",
    "    elif age >= 20 and age <=59:\n",
    "        print(\"ADULT\")\n",
    "    elif age >= 13 and age <= 19:\n",
    "        print(\"TEENAGER\")\n",
    "    else:\n",
    "        print(\"CHILD\")\n",
    "close()"
   ]
  },
  {
   "cell_type": "code",
   "execution_count": null,
   "metadata": {},
   "outputs": [],
   "source": [
    "# list class\n",
    "\n",
    "fruit = [\"apple\",\"banana\", \"carrot\",7, 8, 9, 5, \"orange\", 5 , 45]\n",
    "fruit.append(\"cherry\")\n",
    "fruit.append(4,)"
   ]
  },
  {
   "cell_type": "code",
   "execution_count": null,
   "metadata": {},
   "outputs": [
    {
     "name": "stdout",
     "output_type": "stream",
     "text": [
      "['apple', 'banana', 'carrot', 7, 8, 9, 5, 'orange', 5, 45, 'cherry', 4]\n",
      "apple\n",
      "banana\n",
      "carrot\n",
      "7\n",
      "8\n",
      "9\n",
      "5\n",
      "orange\n",
      "5\n",
      "45\n",
      "cherry\n",
      "4\n"
     ]
    }
   ],
   "source": [
    "print(fruit)\n",
    "for frut in fruit:\n",
    "    print(frut)"
   ]
  },
  {
   "cell_type": "code",
   "execution_count": null,
   "metadata": {},
   "outputs": [
    {
     "name": "stdout",
     "output_type": "stream",
     "text": [
      "45\n"
     ]
    }
   ],
   "source": [
    "print(fruit[-3])"
   ]
  },
  {
   "cell_type": "code",
   "execution_count": null,
   "metadata": {},
   "outputs": [],
   "source": [
    "fruits = []"
   ]
  },
  {
   "cell_type": "code",
   "execution_count": null,
   "metadata": {},
   "outputs": [
    {
     "name": "stdout",
     "output_type": "stream",
     "text": [
      "[4, 7, 'cucumber', 'orange', 45]\n"
     ]
    }
   ],
   "source": [
    "print(fruit[1:-2:2])"
   ]
  },
  {
   "cell_type": "code",
   "execution_count": null,
   "metadata": {},
   "outputs": [
    {
     "name": "stdout",
     "output_type": "stream",
     "text": [
      "['banana', 5, 45]\n"
     ]
    }
   ],
   "source": [
    "print(fruit[1:4])"
   ]
  },
  {
   "cell_type": "code",
   "execution_count": null,
   "metadata": {},
   "outputs": [],
   "source": [
    "fruit[5]= \"cucumber\"\n",
    "fruit[1] = 4"
   ]
  },
  {
   "cell_type": "code",
   "execution_count": null,
   "metadata": {},
   "outputs": [
    {
     "name": "stdout",
     "output_type": "stream",
     "text": [
      "['apple', 4, 'carrot', 7, 8, 'cucumber', 5, 'orange', 5, 45, 'cherry', 4]\n"
     ]
    }
   ],
   "source": [
    "print(fruit)"
   ]
  },
  {
   "cell_type": "code",
   "execution_count": null,
   "metadata": {},
   "outputs": [
    {
     "data": {
      "text/plain": [
       "12"
      ]
     },
     "execution_count": 108,
     "metadata": {},
     "output_type": "execute_result"
    }
   ],
   "source": [
    "len(fruit)\n",
    "\n"
   ]
  },
  {
   "cell_type": "code",
   "execution_count": null,
   "metadata": {},
   "outputs": [
    {
     "name": "stdout",
     "output_type": "stream",
     "text": [
      "['apple', 'banana', 'carrot', 7, 8, 'cucumber', 5, 'orange', 5, 45, 'cherry', 4]\n"
     ]
    }
   ],
   "source": [
    "fruit[1] = \"banana\"\n",
    "print(fruit)"
   ]
  },
  {
   "cell_type": "code",
   "execution_count": null,
   "metadata": {},
   "outputs": [
    {
     "data": {
      "text/plain": [
       "'cucumber'"
      ]
     },
     "execution_count": 48,
     "metadata": {},
     "output_type": "execute_result"
    }
   ],
   "source": [
    "fruit.pop(5)"
   ]
  },
  {
   "cell_type": "code",
   "execution_count": null,
   "metadata": {},
   "outputs": [
    {
     "data": {
      "text/plain": [
       "11"
      ]
     },
     "execution_count": 49,
     "metadata": {},
     "output_type": "execute_result"
    }
   ],
   "source": [
    "len(fruit)"
   ]
  },
  {
   "cell_type": "code",
   "execution_count": null,
   "metadata": {},
   "outputs": [
    {
     "name": "stdout",
     "output_type": "stream",
     "text": [
      "['apple', 'banana', 'carrot', 7, 8, 5, 'orange', 5, 45, 'cherry', 4]\n"
     ]
    }
   ],
   "source": [
    "print(fruit)"
   ]
  },
  {
   "cell_type": "code",
   "execution_count": null,
   "metadata": {},
   "outputs": [
    {
     "name": "stdout",
     "output_type": "stream",
     "text": [
      "1\n",
      "2\n",
      "fizz\n",
      "4\n",
      "buzz\n",
      "fizz\n",
      "7\n",
      "8\n",
      "fizz\n",
      "buzz\n",
      "11\n",
      "fizz\n",
      "13\n",
      "14\n",
      "fizzbuzz\n",
      "16\n",
      "17\n",
      "fizz\n",
      "19\n",
      "buzz\n"
     ]
    }
   ],
   "source": [
    "z = int(input())\n",
    "for f in range(1,z):\n",
    "    if f % 3 == 0 and f % 5 == 0:\n",
    "        print(\"fizzbuzz\")\n",
    "    elif f % 3 == 0:\n",
    "        print(\"fizz\")\n",
    "    elif f % 5 == 0:\n",
    "        print(\"buzz\")\n",
    "    else:\n",
    "        print(f)"
   ]
  },
  {
   "cell_type": "code",
   "execution_count": 14,
   "metadata": {},
   "outputs": [
    {
     "name": "stdout",
     "output_type": "stream",
     "text": [
      "1\n",
      "9\n",
      "4\n",
      "1156\n",
      "25\n",
      "3136\n",
      "6084\n",
      "81\n",
      "0\n",
      "121\n",
      "16\n",
      "3136\n",
      "2025\n",
      "1156\n",
      "1089\n",
      "3025\n",
      "4\n",
      "144\n",
      "1156\n",
      "3136\n",
      "6084\n",
      "9801\n",
      "8100\n",
      "8100\n",
      "3249\n",
      "3364\n",
      "2809\n"
     ]
    }
   ],
   "source": [
    "num = [1,3,2,34,5,56,78,9,0,11,4,56,45,34,33,55,2,12,34,56,78,99,90,90,57,58,53]\n",
    "for nums in num:\n",
    "    print(nums **2)"
   ]
  },
  {
   "cell_type": "code",
   "execution_count": null,
   "metadata": {},
   "outputs": [
    {
     "name": "stdout",
     "output_type": "stream",
     "text": [
      "[2, 34, 56, 78, 0, 4, 56, 34, 2, 12, 34, 56, 78, 90, 90, 58]\n",
      "[1, 3, 5, 9, 11, 45, 33, 55, 99, 57, 53]\n"
     ]
    }
   ],
   "source": [
    "fruits = []\n",
    "fruit = []\n",
    "for nums in num:\n",
    "    if nums % 2 == 0:\n",
    "        fruits.append(nums)\n",
    "    else:\n",
    "        fruit.append(nums)\n",
    "print(fruits)\n",
    "print(fruit)"
   ]
  },
  {
   "cell_type": "code",
   "execution_count": null,
   "metadata": {},
   "outputs": [
    {
     "name": "stdout",
     "output_type": "stream",
     "text": [
      "[1, 2, 3, 4, 5, 6, 7, 8, 9, 10, 11, 12, 13, 14, 15, 16, 17, 18, 19, 20, 21, 22, 23, 24, 25, 26, 27, 28, 29, 30, 31, 32, 33, 34, 35, 36, 37, 38, 39, 40, 41, 42, 43, 44, 45, 46, 47, 48, 49, 50, 51, 52, 53, 54, 55, 56, 57, 58, 59, 60, 61, 62, 63, 64, 65, 66, 67, 68, 69, 70, 71, 72, 73, 74, 75, 76, 77, 78, 79, 80, 81, 82, 83, 84, 85, 86, 87, 88, 89, 90, 91, 92, 93, 94, 95, 96, 97, 98, 99, 100]\n"
     ]
    }
   ],
   "source": [
    "numbers = []\n",
    "for nums in range(1,101):\n",
    "    numbers.append(nums)\n",
    "\n",
    "print(numbers)\n"
   ]
  },
  {
   "cell_type": "code",
   "execution_count": null,
   "metadata": {},
   "outputs": [],
   "source": []
  },
  {
   "cell_type": "code",
   "execution_count": 15,
   "metadata": {},
   "outputs": [
    {
     "name": "stdout",
     "output_type": "stream",
     "text": [
      "[1, 3, 2, 34, 5, 56, 78, 9, 0, 11, 4, 56, 45, 34, 33, 55, 2, 12, 34, 56, 78, 99, 90, 90, 57, 58, 53]\n"
     ]
    }
   ],
   "source": [
    "print(num)"
   ]
  },
  {
   "cell_type": "code",
   "execution_count": 16,
   "metadata": {},
   "outputs": [
    {
     "data": {
      "text/plain": [
       "[2, 56, 0]"
      ]
     },
     "execution_count": 16,
     "metadata": {},
     "output_type": "execute_result"
    }
   ],
   "source": [
    "num[2:10:3]"
   ]
  },
  {
   "cell_type": "code",
   "execution_count": 17,
   "metadata": {},
   "outputs": [],
   "source": [
    "num[2] = 15"
   ]
  },
  {
   "cell_type": "code",
   "execution_count": 18,
   "metadata": {},
   "outputs": [
    {
     "name": "stdout",
     "output_type": "stream",
     "text": [
      "[1, 3, 15, 34, 5, 56, 78, 9, 0, 11, 4, 56, 45, 34, 33, 55, 2, 12, 34, 56, 78, 99, 90, 90, 57, 58, 53]\n"
     ]
    }
   ],
   "source": [
    "print(num)"
   ]
  },
  {
   "cell_type": "code",
   "execution_count": null,
   "metadata": {},
   "outputs": [
    {
     "data": {
      "text/plain": [
       "27"
      ]
     },
     "execution_count": 117,
     "metadata": {},
     "output_type": "execute_result"
    }
   ],
   "source": [
    "len(num)"
   ]
  },
  {
   "cell_type": "code",
   "execution_count": null,
   "metadata": {},
   "outputs": [],
   "source": [
    "num.sort()"
   ]
  },
  {
   "cell_type": "code",
   "execution_count": 19,
   "metadata": {},
   "outputs": [
    {
     "name": "stdout",
     "output_type": "stream",
     "text": [
      "[1, 3, 15, 34, 5, 56, 78, 9, 0, 11, 4, 56, 45, 34, 33, 55, 2, 12, 34, 56, 78, 99, 90, 90, 57, 58, 53]\n"
     ]
    }
   ],
   "source": [
    "print(num)"
   ]
  },
  {
   "cell_type": "code",
   "execution_count": 23,
   "metadata": {},
   "outputs": [
    {
     "data": {
      "text/plain": [
       "{0, 1, 2, 3, 4, 5, 9, 11, 12, 15, 33, 34, 45, 53, 55, 56, 57, 58, 78, 90, 99}"
      ]
     },
     "execution_count": 23,
     "metadata": {},
     "output_type": "execute_result"
    }
   ],
   "source": [
    "set(num)"
   ]
  },
  {
   "cell_type": "code",
   "execution_count": null,
   "metadata": {},
   "outputs": [
    {
     "data": {
      "text/plain": [
       "('This is a vowel', 'u')"
      ]
     },
     "execution_count": 18,
     "metadata": {},
     "output_type": "execute_result"
    }
   ],
   "source": [
    "def alphabet():\n",
    "    letter = input(\"enter an alphabet\")\n",
    "    if letter == \"a\" or letter == \"e\" or letter == \"i\" or letter == \"o\" or letter == \"u\":\n",
    "        return \"This is a vowel\", letter\n",
    "    else:\n",
    "        return \"This is a consonant\", letter\n",
    "    \n",
    "alphabet()"
   ]
  },
  {
   "cell_type": "code",
   "execution_count": null,
   "metadata": {},
   "outputs": [
    {
     "data": {
      "text/plain": [
       "('This is a consonant', 't')"
      ]
     },
     "execution_count": 19,
     "metadata": {},
     "output_type": "execute_result"
    }
   ],
   "source": [
    "alphabet()"
   ]
  },
  {
   "cell_type": "code",
   "execution_count": null,
   "metadata": {},
   "outputs": [],
   "source": [
    "def temp_convert():\n",
    "\n",
    "    temperature = int(input(\"enter your temperature\"))\n",
    "    degree = int(input(\"choose your temperature unit \\n 1. celcius \\n 2. fehrenheit\"))\n",
    "    if degree == 1:\n",
    "        return temperature, \"0'F to celcuis\",  int((temperature - 32) * 5/9)\n",
    "    elif degree == 2:\n",
    "        return temperature, \"0'C to fehrenheit\", int((9/5 * temperature ) + 32)"
   ]
  },
  {
   "cell_type": "code",
   "execution_count": null,
   "metadata": {},
   "outputs": [
    {
     "data": {
      "text/plain": [
       "(39, \"0'F to celcuis\", 3)"
      ]
     },
     "execution_count": 59,
     "metadata": {},
     "output_type": "execute_result"
    }
   ],
   "source": [
    "temp_convert()"
   ]
  },
  {
   "cell_type": "code",
   "execution_count": null,
   "metadata": {},
   "outputs": [],
   "source": [
    "def temp_convert(temperature):\n",
    "\n",
    "    degree = int(input(\"choose your temperature unit \\n 1. celcius \\n 2. fehrenheit\"))\n",
    "    if degree == 1:\n",
    "        print(temperature,\"0'F to celcuis\", \"is\", int((temperature - 32) * 5/9))\n",
    "    elif degree == 2:\n",
    "        print(temperature,\"0'C to fehrenheit is\", int((9/5 * temperature ) + 32))\n",
    "    else:\n",
    "        print(\"ïnvalid input, enter the correct input\")"
   ]
  },
  {
   "cell_type": "code",
   "execution_count": null,
   "metadata": {},
   "outputs": [
    {
     "name": "stdout",
     "output_type": "stream",
     "text": [
      "11435 0'C to fehrenheit is 20615\n"
     ]
    }
   ],
   "source": [
    "temp_convert(11435)"
   ]
  },
  {
   "cell_type": "code",
   "execution_count": null,
   "metadata": {},
   "outputs": [
    {
     "name": "stdout",
     "output_type": "stream",
     "text": [
      "45 0'C to fehrenheit is 113\n"
     ]
    }
   ],
   "source": [
    "temp_convert(45)"
   ]
  },
  {
   "cell_type": "code",
   "execution_count": null,
   "metadata": {},
   "outputs": [
    {
     "name": "stdout",
     "output_type": "stream",
     "text": [
      "45 0'C to fehrenheit is 113\n"
     ]
    }
   ],
   "source": [
    "def temp_convert():\n",
    "    temperature = int(input(\"enter your temperature\"))\n",
    "\n",
    "    degree = int(input(\"choose your temperature unit \\n 1. celcius \\n 2. fehrenheit\"))\n",
    "    if degree == 1:\n",
    "        print(temperature,\"0'F to celcuis\", \"is\", int((temperature - 32) * 5/9))\n",
    "    elif degree == 2:\n",
    "        print(temperature,\"0'C to fehrenheit is\", int((9/5 * temperature ) + 32))\n",
    "    else:\n",
    "        print(\"ïnvalid input, enter the correct input\")\n",
    "\n",
    "\n",
    "\n",
    "\n",
    "temp_convert()"
   ]
  },
  {
   "cell_type": "code",
   "execution_count": null,
   "metadata": {},
   "outputs": [
    {
     "name": "stdout",
     "output_type": "stream",
     "text": [
      "[1, 4, 9, 16, 25, 36, 49, 64, 81, 100]\n"
     ]
    }
   ],
   "source": [
    "ny = []\n",
    "for b in range(1, 11):\n",
    "        ny.append(b ** 2)\n",
    "\n",
    "print(ny)"
   ]
  },
  {
   "cell_type": "code",
   "execution_count": null,
   "metadata": {},
   "outputs": [
    {
     "name": "stdout",
     "output_type": "stream",
     "text": [
      "0\n",
      "2\n",
      "4\n",
      "6\n",
      "8\n",
      "10\n",
      "12\n",
      "14\n",
      "16\n",
      "18\n",
      "20\n"
     ]
    }
   ],
   "source": [
    "num = list(range(0,21))\n",
    "for nu in num:\n",
    "    if nu % 2 == 0:\n",
    "        print(nu)"
   ]
  },
  {
   "cell_type": "code",
   "execution_count": null,
   "metadata": {},
   "outputs": [
    {
     "name": "stdout",
     "output_type": "stream",
     "text": [
      "[0, 2, 4, 6, 8, 10, 12, 14, 16, 18, 20]\n"
     ]
    }
   ],
   "source": [
    "num = []\n",
    "for nu in range(0,21):\n",
    "    if nu % 2 == 0:\n",
    "        num.append(nu)\n",
    "print(num)"
   ]
  },
  {
   "cell_type": "code",
   "execution_count": 6,
   "metadata": {},
   "outputs": [
    {
     "data": {
      "text/plain": [
       "4"
      ]
     },
     "execution_count": 6,
     "metadata": {},
     "output_type": "execute_result"
    }
   ],
   "source": [
    "word = [\"ton\",\"bum\",\"you\",\"set\",\"der\",\"for\",\"but\",\"del\"]\n",
    "len(word[4])\n",
    "word[4] = \"dare\"\n",
    "len(word[4])"
   ]
  },
  {
   "cell_type": "code",
   "execution_count": 7,
   "metadata": {},
   "outputs": [
    {
     "name": "stdout",
     "output_type": "stream",
     "text": [
      "['ton', 'bum', 'you', 'set', 'dare', 'for', 'but', 'del']\n"
     ]
    }
   ],
   "source": [
    "print(word)"
   ]
  },
  {
   "cell_type": "code",
   "execution_count": null,
   "metadata": {},
   "outputs": [
    {
     "name": "stdout",
     "output_type": "stream",
     "text": [
      "['bum', 'but', 'dare', 'del', 'for', 'set', 'ton', 'you']\n"
     ]
    }
   ],
   "source": [
    "word.sort()\n",
    "print(word)"
   ]
  },
  {
   "cell_type": "code",
   "execution_count": null,
   "metadata": {},
   "outputs": [
    {
     "name": "stdout",
     "output_type": "stream",
     "text": [
      "[15, 30, 45]\n"
     ]
    }
   ],
   "source": [
    "number = []\n",
    "for n in range(1, 51):\n",
    "    if n % 3 == 0 and n % 5 == 0:\n",
    "        number.append(n)\n",
    "print(number)\n",
    "\n",
    "\n",
    " \n"
   ]
  },
  {
   "cell_type": "code",
   "execution_count": null,
   "metadata": {},
   "outputs": [
    {
     "name": "stdout",
     "output_type": "stream",
     "text": [
      "['BUM', 'BUT', 'DARE', 'DEL', 'FOR', 'SET', 'TON', 'YOU']\n"
     ]
    }
   ],
   "source": [
    "cap = []\n",
    "for x in word:\n",
    "    cap.append(x.upper())\n",
    "print(cap)\n"
   ]
  },
  {
   "cell_type": "code",
   "execution_count": 8,
   "metadata": {},
   "outputs": [
    {
     "name": "stdout",
     "output_type": "stream",
     "text": [
      "TON\n",
      "BUM\n",
      "YOU\n",
      "SET\n",
      "DARE\n",
      "FOR\n",
      "BUT\n",
      "DEL\n"
     ]
    }
   ],
   "source": [
    "for x in word:\n",
    "    print(x.upper())"
   ]
  },
  {
   "cell_type": "code",
   "execution_count": 68,
   "metadata": {},
   "outputs": [],
   "source": [
    "# INTRUCTION TO DICTIONARY\n",
    "student = {\"name\":[\"john\", \"tope\", \"shade\"], \"age\":\"21\", \"course\":[\"boilogy\", \"chemistry\"]}"
   ]
  },
  {
   "cell_type": "code",
   "execution_count": 69,
   "metadata": {},
   "outputs": [
    {
     "data": {
      "text/plain": [
       "{'name': ['john', 'tope', 'shade'],\n",
       " 'age': '21',\n",
       " 'course': ['boilogy', 'chemistry']}"
      ]
     },
     "execution_count": 69,
     "metadata": {},
     "output_type": "execute_result"
    }
   ],
   "source": [
    "student"
   ]
  },
  {
   "cell_type": "code",
   "execution_count": 51,
   "metadata": {},
   "outputs": [
    {
     "data": {
      "text/plain": [
       "['john', 'tope', 'shade']"
      ]
     },
     "execution_count": 51,
     "metadata": {},
     "output_type": "execute_result"
    }
   ],
   "source": [
    "student[\"name\"]"
   ]
  },
  {
   "cell_type": "code",
   "execution_count": 52,
   "metadata": {},
   "outputs": [
    {
     "data": {
      "text/plain": [
       "'21'"
      ]
     },
     "execution_count": 52,
     "metadata": {},
     "output_type": "execute_result"
    }
   ],
   "source": [
    "student[\"age\"]"
   ]
  },
  {
   "cell_type": "code",
   "execution_count": 71,
   "metadata": {},
   "outputs": [],
   "source": [
    "student[\"grade\"] = \"A\""
   ]
  },
  {
   "cell_type": "code",
   "execution_count": 54,
   "metadata": {},
   "outputs": [
    {
     "data": {
      "text/plain": [
       "{'name': ['john', 'tope', 'shade'],\n",
       " 'age': '21',\n",
       " 'course': ['boilogy', 'chemistry'],\n",
       " 'grade': 'A'}"
      ]
     },
     "execution_count": 54,
     "metadata": {},
     "output_type": "execute_result"
    }
   ],
   "source": [
    "student"
   ]
  },
  {
   "cell_type": "code",
   "execution_count": 74,
   "metadata": {},
   "outputs": [],
   "source": [
    "student[\"age\"] = \"22\""
   ]
  },
  {
   "cell_type": "code",
   "execution_count": 75,
   "metadata": {},
   "outputs": [
    {
     "data": {
      "text/plain": [
       "{'name': ['john', 'tope', 'shade'],\n",
       " 'age': '22',\n",
       " 'course': ['boilogy', 'chemistry'],\n",
       " 'grade': 'A'}"
      ]
     },
     "execution_count": 75,
     "metadata": {},
     "output_type": "execute_result"
    }
   ],
   "source": [
    "student"
   ]
  },
  {
   "cell_type": "code",
   "execution_count": 19,
   "metadata": {},
   "outputs": [
    {
     "data": {
      "text/plain": [
       "{'apples': 10, 'orange': 23, 'pawpaw': 5}"
      ]
     },
     "execution_count": 19,
     "metadata": {},
     "output_type": "execute_result"
    }
   ],
   "source": [
    "inventory = {\"apples\":10, \"orange\":23, \"pawpaw\": 5}\n",
    "inventory"
   ]
  },
  {
   "cell_type": "code",
   "execution_count": 20,
   "metadata": {},
   "outputs": [
    {
     "data": {
      "text/plain": [
       "10"
      ]
     },
     "execution_count": 20,
     "metadata": {},
     "output_type": "execute_result"
    }
   ],
   "source": [
    "inventory[\"apples\"]"
   ]
  },
  {
   "cell_type": "code",
   "execution_count": 21,
   "metadata": {},
   "outputs": [
    {
     "data": {
      "text/plain": [
       "{'apples': 10, 'orange': 23}"
      ]
     },
     "execution_count": 21,
     "metadata": {},
     "output_type": "execute_result"
    }
   ],
   "source": [
    "inventory.pop(\"pawpaw\")\n",
    "inventory"
   ]
  },
  {
   "cell_type": "code",
   "execution_count": 22,
   "metadata": {},
   "outputs": [],
   "source": [
    "inventory[\"mango\"] = 6"
   ]
  },
  {
   "cell_type": "code",
   "execution_count": 24,
   "metadata": {},
   "outputs": [
    {
     "data": {
      "text/plain": [
       "{'apples': 10, 'orange': 23, 'mango': 6, 'grape': [56, 76]}"
      ]
     },
     "execution_count": 24,
     "metadata": {},
     "output_type": "execute_result"
    }
   ],
   "source": [
    "inventory[\"grape\"] = [56, 76]\n",
    "inventory"
   ]
  },
  {
   "cell_type": "code",
   "execution_count": 25,
   "metadata": {},
   "outputs": [
    {
     "data": {
      "text/plain": [
       "dict_keys(['apples', 'orange', 'mango', 'grape'])"
      ]
     },
     "execution_count": 25,
     "metadata": {},
     "output_type": "execute_result"
    }
   ],
   "source": [
    "inventory.keys()"
   ]
  },
  {
   "cell_type": "code",
   "execution_count": 26,
   "metadata": {},
   "outputs": [
    {
     "data": {
      "text/plain": [
       "dict_values([10, 23, 6, [56, 76]])"
      ]
     },
     "execution_count": 26,
     "metadata": {},
     "output_type": "execute_result"
    }
   ],
   "source": [
    "inventory.values()"
   ]
  },
  {
   "cell_type": "code",
   "execution_count": 55,
   "metadata": {},
   "outputs": [],
   "source": [
    "classroom = {\"student1\":{\"name\":\"alice\",\"age\":\"20\"},\"student2\":{\"name\":\"benson\", \"age\":\"19\"}}"
   ]
  },
  {
   "cell_type": "code",
   "execution_count": 56,
   "metadata": {},
   "outputs": [
    {
     "data": {
      "text/plain": [
       "{'student1': {'name': 'alice', 'age': '20'},\n",
       " 'student2': {'name': 'benson', 'age': '19'}}"
      ]
     },
     "execution_count": 56,
     "metadata": {},
     "output_type": "execute_result"
    }
   ],
   "source": [
    "classroom"
   ]
  },
  {
   "cell_type": "code",
   "execution_count": 50,
   "metadata": {},
   "outputs": [
    {
     "data": {
      "text/plain": [
       "{'age'}"
      ]
     },
     "execution_count": 50,
     "metadata": {},
     "output_type": "execute_result"
    }
   ],
   "source": [
    "classroom[\"student2\"]"
   ]
  },
  {
   "cell_type": "code",
   "execution_count": 57,
   "metadata": {},
   "outputs": [
    {
     "data": {
      "text/plain": [
       "False"
      ]
     },
     "execution_count": 57,
     "metadata": {},
     "output_type": "execute_result"
    }
   ],
   "source": [
    "\"student3\" in classroom"
   ]
  },
  {
   "cell_type": "code",
   "execution_count": 58,
   "metadata": {},
   "outputs": [
    {
     "data": {
      "text/plain": [
       "{'student1': {'name': 'alice', 'age': '20'},\n",
       " 'student2': {'name': 'benson', 'age': '19'},\n",
       " 'student3': {'name': 'tomy', 'age': 31}}"
      ]
     },
     "execution_count": 58,
     "metadata": {},
     "output_type": "execute_result"
    }
   ],
   "source": [
    "classroom[\"student3\"] = {\"name\":\"tomy\", \"age\": 31}\n",
    "\n",
    "\n",
    "classroom"
   ]
  },
  {
   "cell_type": "code",
   "execution_count": 59,
   "metadata": {},
   "outputs": [
    {
     "data": {
      "text/plain": [
       "{'name': 'benson', 'age': '19'}"
      ]
     },
     "execution_count": 59,
     "metadata": {},
     "output_type": "execute_result"
    }
   ],
   "source": [
    "classroom[\"student2\"]"
   ]
  },
  {
   "cell_type": "markdown",
   "metadata": {},
   "source": []
  },
  {
   "cell_type": "code",
   "execution_count": 34,
   "metadata": {},
   "outputs": [
    {
     "name": "stdout",
     "output_type": "stream",
     "text": [
      "{'name': 'dave', 'city': 'new york'}\n"
     ]
    },
    {
     "data": {
      "text/plain": [
       "{'name': 'dave', 'city': 'new york'}"
      ]
     },
     "execution_count": 34,
     "metadata": {},
     "output_type": "execute_result"
    }
   ],
   "source": [
    "person = {\n",
    "    \"name\":\"dave\", \"city\":\"new york\"\n",
    "    }\n",
    "\n",
    "\n",
    "print(person)\n",
    "person"
   ]
  },
  {
   "cell_type": "code",
   "execution_count": 40,
   "metadata": {},
   "outputs": [
    {
     "data": {
      "text/plain": [
       "{'name': 'dave', 'city': 'new york', 'age': 30}"
      ]
     },
     "execution_count": 40,
     "metadata": {},
     "output_type": "execute_result"
    }
   ],
   "source": [
    "\n",
    "person[\"age\"] = 30\n",
    "person\n"
   ]
  },
  {
   "cell_type": "code",
   "execution_count": 41,
   "metadata": {},
   "outputs": [
    {
     "data": {
      "text/plain": [
       "True"
      ]
     },
     "execution_count": 41,
     "metadata": {},
     "output_type": "execute_result"
    }
   ],
   "source": [
    "\"age\" in person"
   ]
  },
  {
   "cell_type": "code",
   "execution_count": 10,
   "metadata": {},
   "outputs": [],
   "source": [
    "# moving to pandas\n",
    "\n",
    "\n",
    "\n"
   ]
  }
 ],
 "metadata": {
  "kernelspec": {
   "display_name": "Python 3",
   "language": "python",
   "name": "python3"
  },
  "language_info": {
   "codemirror_mode": {
    "name": "ipython",
    "version": 3
   },
   "file_extension": ".py",
   "mimetype": "text/x-python",
   "name": "python",
   "nbconvert_exporter": "python",
   "pygments_lexer": "ipython3",
   "version": "3.12.3"
  }
 },
 "nbformat": 4,
 "nbformat_minor": 2
}
